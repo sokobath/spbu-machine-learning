{
 "cells": [
  {
   "cell_type": "code",
   "execution_count": 1,
   "metadata": {},
   "outputs": [],
   "source": [
    "import numpy as np\n",
    "import time\n",
    "from scipy.sparse import load_npz, issparse\n",
    "import pandas as pd"
   ]
  },
  {
   "cell_type": "code",
   "execution_count": 2,
   "metadata": {},
   "outputs": [],
   "source": [
    "def cross_validation(X, n_samples=5):\n",
    "    indices = np.arange(X.shape[0])\n",
    "    np.random.shuffle(indices)\n",
    "    sample_size = X.shape[0] // n_samples\n",
    "    \n",
    "    for i in range(1, n_samples):\n",
    "        test = np.zeros(X.shape[0], dtype=bool)\n",
    "        test[indices[(i - 1) * sample_size : i * sample_size]] = True\n",
    "        train = ~test\n",
    "        yield train, test\n",
    "    \n",
    "    test = np.zeros(X.shape[0], dtype=bool)\n",
    "    test[indices[(n_samples - 1) * sample_size :]] = True\n",
    "    train = ~test\n",
    "    yield train, test"
   ]
  },
  {
   "cell_type": "code",
   "execution_count": 3,
   "metadata": {},
   "outputs": [],
   "source": [
    "def mserror(y, y_pred):\n",
    "    return np.sum(np.subtract(y_pred, y) ** 2) / y.size\n",
    "\n",
    "def rmserror(y, y_pred):\n",
    "    return np.sqrt(mserror(y, y_pred))"
   ]
  },
  {
   "cell_type": "code",
   "execution_count": 4,
   "metadata": {},
   "outputs": [],
   "source": [
    "class FactorizationMachine(object):\n",
    "    def __init__(self, step=0.000001, k=5):\n",
    "        self.k = k\n",
    "        self.w0 = 0\n",
    "        self.W = None\n",
    "        self.V = None\n",
    "        self.Z = None\n",
    "        self.X2 = None\n",
    "        self.initStep = step\n",
    "        self.step = self.initStep\n",
    "\n",
    "    def predict(self, X):\n",
    "        self.Z = X @ self.V\n",
    "        if issparse(X):\n",
    "            self.X2 = X.power(2)\n",
    "        else:\n",
    "            self.X2 = X**2\n",
    "        return self.w0 + X @ self.W + np.sum(self.Z**2 - (self.X2 @ self.V**2), axis=1, keepdims=True) / 2\n",
    "\n",
    "    def get_batches(self, dataset, batch_size):\n",
    "        X, Y = dataset\n",
    "        n_samples = X.shape[0]\n",
    "\n",
    "        indices = np.arange(n_samples)\n",
    "        np.random.shuffle(indices)\n",
    "\n",
    "        for start in range(0, n_samples, batch_size):\n",
    "            end = min(start + batch_size, n_samples)\n",
    "            batch_idx = indices[start:end]\n",
    "\n",
    "            yield X[batch_idx], Y[batch_idx]\n",
    "\n",
    "    def update_learning_rate(self, epoch):\n",
    "        self.step = self.initStep / np.sqrt(epoch + 1)\n",
    "\n",
    "    def fit(self, X, y, n_epoch=2, batch_size=128):\n",
    "        n, d = X.shape\n",
    "\n",
    "        stdv = 1 / np.sqrt(n)\n",
    "        self.W = np.random.uniform(-stdv, stdv, size=(d, 1))\n",
    "        self.V = np.random.uniform(-stdv, stdv, size=(d, self.k))\n",
    "    \n",
    "        for i in range(n_epoch):\n",
    "            for x_batch, y_batch in self.get_batches((X, y), batch_size):\n",
    "                self.update_learning_rate(i)\n",
    "                predictions = self.predict(x_batch)\n",
    "                dLoss = 2 * np.subtract(predictions, y_batch.reshape(-1, 1)) / len(y_batch)\n",
    "\n",
    "                self.w0 -= np.multiply(self.step, np.sum(dLoss))\n",
    "                \n",
    "                self.W -= np.multiply(self.step, x_batch.transpose() @ dLoss)\n",
    "\n",
    "                np.multiply(self.step, dLoss, out=dLoss)\n",
    "                for j in range(self.k):\n",
    "                    if issparse(x_batch):\n",
    "                        dV = x_batch.multiply(self.Z[:, j].reshape(-1, 1))\n",
    "                        dV -= self.X2.multiply(self.V[:, j])\n",
    "                    else:\n",
    "                        dV = np.multiply(x_batch, self.Z[:, j].reshape(-1, 1))\n",
    "                        np.subtract(dV, np.multiply(self.X2, self.V[:, j]), out=dV)\n",
    "                    self.V[:,j] -= dLoss.reshape(-1) @ dV"
   ]
  },
  {
   "cell_type": "code",
   "execution_count": 5,
   "metadata": {},
   "outputs": [],
   "source": [
    "X = load_npz(\"sparse_X_100_films.npz\")\n",
    "y = np.load(\"y_100_films.npz\")[\"arr_0\"]"
   ]
  },
  {
   "cell_type": "code",
   "execution_count": 6,
   "metadata": {},
   "outputs": [
    {
     "name": "stdout",
     "output_type": "stream",
     "text": [
      "Training time: 9.48437 min\n",
      "RMSE train: 0.99572, RMSE test: 0.99593\n",
      "Training time: 9.39786 min\n",
      "RMSE train: 0.99668, RMSE test: 0.99674\n",
      "Training time: 9.70138 min\n",
      "RMSE train: 0.99596, RMSE test: 0.99601\n",
      "Training time: 10.11357 min\n",
      "RMSE train: 0.99594, RMSE test: 0.99643\n",
      "Training time: 9.65815 min\n",
      "RMSE train: 0.99566, RMSE test: 0.99686\n"
     ]
    }
   ],
   "source": [
    "time_train = []\n",
    "rmse_train = []\n",
    "rmse_test = []\n",
    "\n",
    "for train, test in cross_validation(X):\n",
    "    fm = FactorizationMachine(step = 0.1, k = 3)\n",
    "    start = time.time()\n",
    "    fm.fit(X[train], y[train], n_epoch = 1, batch_size = 512)\n",
    "    stop = time.time()\n",
    "    \n",
    "    time_train_i = (stop - start) / 60\n",
    "    print('Training time: %.5f min' % (time_train_i))\n",
    "    time_train.append(time_train_i)\n",
    "    \n",
    "    predictions_train = fm.predict(X[train]).reshape(-1)\n",
    "    predictions_test = fm.predict(X[test]).reshape(-1)\n",
    "    rmse_train_i = rmserror(y[train], predictions_train)\n",
    "    rmse_test_i = rmserror(y[test], predictions_test)\n",
    "    print('RMSE train: %.5f, RMSE test: %.5f' % (rmse_train_i, rmse_test_i))\n",
    "    rmse_train.append(rmse_train_i)\n",
    "    rmse_test.append(rmse_test_i)    "
   ]
  },
  {
   "cell_type": "code",
   "execution_count": 7,
   "metadata": {},
   "outputs": [],
   "source": [
    "result_dictionary = {'RMSE train': rmse_train, 'RMSE test': rmse_test, 'Training time': time_train}\n",
    "result = pd.DataFrame(result_dictionary).T"
   ]
  },
  {
   "cell_type": "code",
   "execution_count": 8,
   "metadata": {},
   "outputs": [
    {
     "data": {
      "text/html": [
       "<div>\n",
       "<style scoped>\n",
       "    .dataframe tbody tr th:only-of-type {\n",
       "        vertical-align: middle;\n",
       "    }\n",
       "\n",
       "    .dataframe tbody tr th {\n",
       "        vertical-align: top;\n",
       "    }\n",
       "\n",
       "    .dataframe thead th {\n",
       "        text-align: right;\n",
       "    }\n",
       "</style>\n",
       "<table border=\"1\" class=\"dataframe\">\n",
       "  <thead>\n",
       "    <tr style=\"text-align: right;\">\n",
       "      <th></th>\n",
       "      <th>0</th>\n",
       "      <th>1</th>\n",
       "      <th>2</th>\n",
       "      <th>3</th>\n",
       "      <th>4</th>\n",
       "    </tr>\n",
       "  </thead>\n",
       "  <tbody>\n",
       "    <tr>\n",
       "      <th>RMSE train</th>\n",
       "      <td>0.995722</td>\n",
       "      <td>0.996675</td>\n",
       "      <td>0.995955</td>\n",
       "      <td>0.995945</td>\n",
       "      <td>0.995662</td>\n",
       "    </tr>\n",
       "    <tr>\n",
       "      <th>RMSE test</th>\n",
       "      <td>0.995929</td>\n",
       "      <td>0.996742</td>\n",
       "      <td>0.996010</td>\n",
       "      <td>0.996432</td>\n",
       "      <td>0.996862</td>\n",
       "    </tr>\n",
       "    <tr>\n",
       "      <th>Training time</th>\n",
       "      <td>9.484369</td>\n",
       "      <td>9.397865</td>\n",
       "      <td>9.701377</td>\n",
       "      <td>10.113574</td>\n",
       "      <td>9.658153</td>\n",
       "    </tr>\n",
       "  </tbody>\n",
       "</table>\n",
       "</div>"
      ],
      "text/plain": [
       "                      0         1         2          3         4\n",
       "RMSE train     0.995722  0.996675  0.995955   0.995945  0.995662\n",
       "RMSE test      0.995929  0.996742  0.996010   0.996432  0.996862\n",
       "Training time  9.484369  9.397865  9.701377  10.113574  9.658153"
      ]
     },
     "execution_count": 8,
     "metadata": {},
     "output_type": "execute_result"
    }
   ],
   "source": [
    "result"
   ]
  },
  {
   "cell_type": "code",
   "execution_count": 5,
   "metadata": {},
   "outputs": [],
   "source": [
    "X = load_npz(\"sparse_X_1_file.npz\")\n",
    "y = np.load(\"y_1_file.npz\")[\"arr_0\"]"
   ]
  },
  {
   "cell_type": "code",
   "execution_count": 6,
   "metadata": {},
   "outputs": [
    {
     "name": "stdout",
     "output_type": "stream",
     "text": [
      "Training time: 23.81083 min\n",
      "RMSE train: 1.00949, RMSE test: 1.01009\n",
      "Training time: 23.61169 min\n",
      "RMSE train: 1.01089, RMSE test: 1.01050\n",
      "Training time: 24.08423 min\n",
      "RMSE train: 1.03048, RMSE test: 1.03110\n",
      "Training time: 23.48509 min\n",
      "RMSE train: 1.00879, RMSE test: 1.00942\n",
      "Training time: 23.89751 min\n",
      "RMSE train: 1.00876, RMSE test: 1.00941\n"
     ]
    }
   ],
   "source": [
    "time_train = []\n",
    "rmse_train = []\n",
    "rmse_test = []\n",
    "\n",
    "for train, test in cross_validation(X):\n",
    "    fm = FactorizationMachine(step = 0.1, k = 3)\n",
    "    start = time.time()\n",
    "    fm.fit(X[train], y[train], n_epoch = 1, batch_size = 512)\n",
    "    stop = time.time()\n",
    "    \n",
    "    time_train_i = (stop - start) / 60\n",
    "    print('Training time: %.5f min' % (time_train_i))\n",
    "    time_train.append(time_train_i)\n",
    "    \n",
    "    predictions_train = fm.predict(X[train]).reshape(-1)\n",
    "    predictions_test = fm.predict(X[test]).reshape(-1)\n",
    "    rmse_train_i = rmserror(y[train], predictions_train)\n",
    "    rmse_test_i = rmserror(y[test], predictions_test)\n",
    "    print('RMSE train: %.5f, RMSE test: %.5f' % (rmse_train_i, rmse_test_i))\n",
    "    rmse_train.append(rmse_train_i)\n",
    "    rmse_test.append(rmse_test_i)"
   ]
  },
  {
   "cell_type": "code",
   "execution_count": 7,
   "metadata": {},
   "outputs": [],
   "source": [
    "result_dictionary = {'RMSE train': rmse_train, 'RMSE test': rmse_test, 'Training time': time_train}\n",
    "result = pd.DataFrame(result_dictionary).T"
   ]
  },
  {
   "cell_type": "code",
   "execution_count": 8,
   "metadata": {},
   "outputs": [
    {
     "data": {
      "text/html": [
       "<div>\n",
       "<style scoped>\n",
       "    .dataframe tbody tr th:only-of-type {\n",
       "        vertical-align: middle;\n",
       "    }\n",
       "\n",
       "    .dataframe tbody tr th {\n",
       "        vertical-align: top;\n",
       "    }\n",
       "\n",
       "    .dataframe thead th {\n",
       "        text-align: right;\n",
       "    }\n",
       "</style>\n",
       "<table border=\"1\" class=\"dataframe\">\n",
       "  <thead>\n",
       "    <tr style=\"text-align: right;\">\n",
       "      <th></th>\n",
       "      <th>0</th>\n",
       "      <th>1</th>\n",
       "      <th>2</th>\n",
       "      <th>3</th>\n",
       "      <th>4</th>\n",
       "    </tr>\n",
       "  </thead>\n",
       "  <tbody>\n",
       "    <tr>\n",
       "      <th>RMSE train</th>\n",
       "      <td>1.009488</td>\n",
       "      <td>1.010885</td>\n",
       "      <td>1.030476</td>\n",
       "      <td>1.008787</td>\n",
       "      <td>1.008758</td>\n",
       "    </tr>\n",
       "    <tr>\n",
       "      <th>RMSE test</th>\n",
       "      <td>1.010086</td>\n",
       "      <td>1.010502</td>\n",
       "      <td>1.031098</td>\n",
       "      <td>1.009424</td>\n",
       "      <td>1.009410</td>\n",
       "    </tr>\n",
       "    <tr>\n",
       "      <th>Training time</th>\n",
       "      <td>23.810829</td>\n",
       "      <td>23.611692</td>\n",
       "      <td>24.084233</td>\n",
       "      <td>23.485086</td>\n",
       "      <td>23.897509</td>\n",
       "    </tr>\n",
       "  </tbody>\n",
       "</table>\n",
       "</div>"
      ],
      "text/plain": [
       "                       0          1          2          3          4\n",
       "RMSE train      1.009488   1.010885   1.030476   1.008787   1.008758\n",
       "RMSE test       1.010086   1.010502   1.031098   1.009424   1.009410\n",
       "Training time  23.810829  23.611692  24.084233  23.485086  23.897509"
      ]
     },
     "execution_count": 8,
     "metadata": {},
     "output_type": "execute_result"
    }
   ],
   "source": [
    "result"
   ]
  },
  {
   "cell_type": "code",
   "execution_count": null,
   "metadata": {},
   "outputs": [],
   "source": []
  }
 ],
 "metadata": {
  "kernelspec": {
   "display_name": "Python 3",
   "language": "python",
   "name": "python3"
  },
  "language_info": {
   "codemirror_mode": {
    "name": "ipython",
    "version": 3
   },
   "file_extension": ".py",
   "mimetype": "text/x-python",
   "name": "python",
   "nbconvert_exporter": "python",
   "pygments_lexer": "ipython3",
   "version": "3.6.7"
  }
 },
 "nbformat": 4,
 "nbformat_minor": 2
}
