{
 "cells": [
  {
   "cell_type": "code",
   "execution_count": null,
   "metadata": {},
   "outputs": [],
   "source": [
    "import numpy as np\n",
    "from scipy.sparse import csr_matrix, save_npz\n",
    "import operator\n",
    "import time"
   ]
  },
  {
   "cell_type": "code",
   "execution_count": null,
   "metadata": {},
   "outputs": [],
   "source": [
    "def read_netflix_dataset(*files, n_films = None):\n",
    "    new_users_id = {}\n",
    "    movies_count = {}\n",
    "    movie_id = -1\n",
    "    n_users = 0\n",
    "    \n",
    "    for file in files:\n",
    "        f = open(file, 'r')\n",
    "        for line in f:\n",
    "            if line.strip()[-1] == ':':\n",
    "                movie_id = int(line[:-2])\n",
    "                movies_count[movie_id] = 0\n",
    "            else:\n",
    "                arr = line.split(',')\n",
    "                user_id = int(arr[0])\n",
    "                if user_id not in new_users_id:\n",
    "                    n_users += 1\n",
    "                    new_users_id[user_id] = n_users\n",
    "                movies_count[movie_id] += 1\n",
    "        f.close()\n",
    "    \n",
    "    movies = list()\n",
    "    num_lines = 0\n",
    "    if n_films == None:\n",
    "        n_films = len(movies_count)\n",
    "        movies = movies_count.keys()\n",
    "        num_lines = sum(movies_count.values())\n",
    "    else:\n",
    "        movies_count = sorted(movies_count.items(), key = operator.itemgetter(1), reverse = True)\n",
    "        movies = [movies_count[i][0] for i in range(n_films)]\n",
    "        for _, n_rates in movies_count[:n_films]:\n",
    "            num_lines += n_rates\n",
    "    \n",
    "    row = np.hstack((np.arange(num_lines), np.arange(num_lines)))\n",
    "    col = np.zeros((2 * num_lines,), dtype = int)\n",
    "    data = np.ones((2 * num_lines,), dtype = int)\n",
    "    target = np.zeros((num_lines,), dtype = int)\n",
    "    \n",
    "    line_i = 0\n",
    "    for file in files:\n",
    "        f = open(file, 'r')\n",
    "        for line in f:\n",
    "            if line.strip()[-1] == ':':\n",
    "                movie_id = int(line[:-2])\n",
    "            elif movie_id in movies:\n",
    "                arr = line.split(',')\n",
    "                user_id = int(arr[0])\n",
    "                col[line_i] = movie_id - 1\n",
    "                col[num_lines + line_i] = n_films + new_users_id[user_id] - 1\n",
    "                target[line_i] = int(arr[1])\n",
    "                line_i += 1\n",
    "        f.close()\n",
    "    \n",
    "    features = csr_matrix((data, (row, col)), shape = (num_lines, n_users + n_films))\n",
    "    \n",
    "    return (features, target)"
   ]
  },
  {
   "cell_type": "code",
   "execution_count": null,
   "metadata": {},
   "outputs": [],
   "source": [
    "start = time.time()\n",
    "X, y = read_netflix_dataset(\"combined_data_1.txt\", n_films = 10)\n",
    "stop = time.time()\n",
    "print('Reading time: %.2f min' % ((stop - start) / 60))"
   ]
  },
  {
   "cell_type": "code",
   "execution_count": null,
   "metadata": {},
   "outputs": [],
   "source": [
    "start = time.time()\n",
    "X, y = read_netflix_dataset(\"combined_data_1.txt\", n_films = 100)\n",
    "stop = time.time()\n",
    "print('Reading time: %.2f min' % ((stop - start) / 60))"
   ]
  },
  {
   "cell_type": "code",
   "execution_count": null,
   "metadata": {},
   "outputs": [],
   "source": [
    "save_npz('sparse_X_100_films.npz', X)"
   ]
  },
  {
   "cell_type": "code",
   "execution_count": null,
   "metadata": {},
   "outputs": [],
   "source": [
    "np.savez('y_100_films.npz', y)"
   ]
  },
  {
   "cell_type": "code",
   "execution_count": null,
   "metadata": {},
   "outputs": [],
   "source": [
    "start = time.time()\n",
    "X, y = read_netflix_dataset(\"combined_data_1.txt\")\n",
    "stop = time.time()\n",
    "print('Reading time: %.2f min' % ((stop - start) / 60))"
   ]
  },
  {
   "cell_type": "code",
   "execution_count": null,
   "metadata": {},
   "outputs": [],
   "source": [
    "save_npz('sparse_X_1_file.npz', X)"
   ]
  },
  {
   "cell_type": "code",
   "execution_count": null,
   "metadata": {},
   "outputs": [],
   "source": [
    "np.savez('y_1_file.npz', y)"
   ]
  },
  {
   "cell_type": "code",
   "execution_count": null,
   "metadata": {},
   "outputs": [],
   "source": []
  }
 ],
 "metadata": {
  "kernelspec": {
   "display_name": "Python 3",
   "language": "python",
   "name": "python3"
  },
  "language_info": {
   "codemirror_mode": {
    "name": "ipython",
    "version": 3
   },
   "file_extension": ".py",
   "mimetype": "text/x-python",
   "name": "python",
   "nbconvert_exporter": "python",
   "pygments_lexer": "ipython3",
   "version": "3.6.7"
  }
 },
 "nbformat": 4,
 "nbformat_minor": 2
}
