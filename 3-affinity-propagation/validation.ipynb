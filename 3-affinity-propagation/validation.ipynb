{
 "cells": [
  {
   "cell_type": "code",
   "execution_count": 1,
   "metadata": {},
   "outputs": [],
   "source": [
    "import pandas as pd\n",
    "import numpy as np\n",
    "from matplotlib import pyplot as plt\n",
    "%matplotlib inline\n",
    "from sklearn.model_selection import train_test_split"
   ]
  },
  {
   "cell_type": "code",
   "execution_count": 2,
   "metadata": {},
   "outputs": [],
   "source": [
    "n = 196591"
   ]
  },
  {
   "cell_type": "code",
   "execution_count": 3,
   "metadata": {},
   "outputs": [],
   "source": [
    "clusters = pd.read_csv('exemplars.txt', sep = '\\n', header = None, names = ['exemplar'])\n",
    "clusters[\"user\"] = pd.Series(range(n))"
   ]
  },
  {
   "cell_type": "code",
   "execution_count": 4,
   "metadata": {},
   "outputs": [
    {
     "name": "stdout",
     "output_type": "stream",
     "text": [
      "Number of clusters: 117581\n"
     ]
    }
   ],
   "source": [
    "clusters_sizes = clusters['exemplar'].value_counts()\n",
    "print('Number of clusters:', clusters_sizes.count())"
   ]
  },
  {
   "cell_type": "code",
   "execution_count": 5,
   "metadata": {},
   "outputs": [
    {
     "name": "stdout",
     "output_type": "stream",
     "text": [
      "Number of clusters of size > 1: 44150\n"
     ]
    }
   ],
   "source": [
    "print('Number of clusters of size > 1:', np.sum(clusters_sizes > 1))"
   ]
  },
  {
   "cell_type": "code",
   "execution_count": 6,
   "metadata": {},
   "outputs": [
    {
     "name": "stdout",
     "output_type": "stream",
     "text": [
      "Number of clusters of size > 100: 17\n"
     ]
    }
   ],
   "source": [
    "print('Number of clusters of size > 100:', np.sum(clusters_sizes > 100))"
   ]
  },
  {
   "cell_type": "code",
   "execution_count": 7,
   "metadata": {},
   "outputs": [
    {
     "data": {
      "text/plain": [
       "1     73431\n",
       "2     29280\n",
       "3      9844\n",
       "4      3068\n",
       "5       987\n",
       "6       412\n",
       "7       177\n",
       "8        99\n",
       "9        60\n",
       "10       36\n",
       "Name: exemplar, dtype: int64"
      ]
     },
     "execution_count": 7,
     "metadata": {},
     "output_type": "execute_result"
    }
   ],
   "source": [
    "count_sizes = clusters_sizes.value_counts().sort_index()\n",
    "count_sizes[:10]"
   ]
  },
  {
   "cell_type": "code",
   "execution_count": 8,
   "metadata": {},
   "outputs": [
    {
     "data": {
      "text/plain": [
       "277     1\n",
       "347     1\n",
       "369     1\n",
       "457     1\n",
       "615     1\n",
       "642     1\n",
       "790     1\n",
       "1035    1\n",
       "1093    1\n",
       "2394    1\n",
       "Name: exemplar, dtype: int64"
      ]
     },
     "execution_count": 8,
     "metadata": {},
     "output_type": "execute_result"
    }
   ],
   "source": [
    "count_sizes[-10:]"
   ]
  },
  {
   "cell_type": "code",
   "execution_count": 9,
   "metadata": {},
   "outputs": [
    {
     "data": {
      "text/plain": [
       "Text(0.5, 0, 'Размеры кластеров')"
      ]
     },
     "execution_count": 9,
     "metadata": {},
     "output_type": "execute_result"
    },
    {
     "data": {
      "image/png": "[encoded data removed]",
      "text/plain": [
       "<Figure size 720x360 with 1 Axes>"
      ]
     },
     "metadata": {
      "needs_background": "light"
     },
     "output_type": "display_data"
    }
   ],
   "source": [
    "ax = count_sizes[count_sizes.index <= 4].plot(kind = \"bar\", figsize = (10, 5))\n",
    "ax.set_xlabel(\"Размеры кластеров\")"
   ]
  },
  {
   "cell_type": "code",
   "execution_count": 10,
   "metadata": {},
   "outputs": [
    {
     "data": {
      "text/plain": [
       "Text(0.5, 0, 'Размеры кластеров')"
      ]
     },
     "execution_count": 10,
     "metadata": {},
     "output_type": "execute_result"
    },
    {
     "data": {
      "image/png": "[encoded data removed]",
      "text/plain": [
       "<Figure size 1080x360 with 1 Axes>"
      ]
     },
     "metadata": {
      "needs_background": "light"
     },
     "output_type": "display_data"
    }
   ],
   "source": [
    "ax = count_sizes[(count_sizes.index > 4) & (count_sizes.index <= 10)].plot(kind = \"bar\", figsize = (15, 5))\n",
    "ax.set_xlabel(\"Размеры кластеров\")"
   ]
  },
  {
   "cell_type": "code",
   "execution_count": 11,
   "metadata": {},
   "outputs": [
    {
     "data": {
      "text/plain": [
       "Text(0.5, 0, 'Размеры кластеров')"
      ]
     },
     "execution_count": 11,
     "metadata": {},
     "output_type": "execute_result"
    },
    {
     "data": {
      "image/png": "[encoded data removed]",
      "text/plain": [
       "<Figure size 1080x360 with 1 Axes>"
      ]
     },
     "metadata": {
      "needs_background": "light"
     },
     "output_type": "display_data"
    }
   ],
   "source": [
    "ax = count_sizes[count_sizes.index > 10].plot(kind = \"bar\", figsize = (15, 5))\n",
    "ax.set_xlabel(\"Размеры кластеров\")"
   ]
  },
  {
   "cell_type": "code",
   "execution_count": 12,
   "metadata": {},
   "outputs": [],
   "source": [
    "checkins = pd.read_csv('Gowalla_totalCheckins.txt', sep = '\\t', header = None)\n",
    "checkins = checkins[[0, 4]]\n",
    "checkins.columns = ['user', 'location']\n",
    "users = np.unique(checkins['user'])"
   ]
  },
  {
   "cell_type": "code",
   "execution_count": 13,
   "metadata": {},
   "outputs": [],
   "source": [
    "data = pd.merge(checkins, clusters, left_on = ['user'], right_on = ['user'])"
   ]
  },
  {
   "cell_type": "code",
   "execution_count": 14,
   "metadata": {},
   "outputs": [],
   "source": [
    "def get_top_checkins(x):\n",
    "    top = x['location'].value_counts().iloc[:10].index.values\n",
    "    return pd.Series(top)"
   ]
  },
  {
   "cell_type": "code",
   "execution_count": 15,
   "metadata": {},
   "outputs": [],
   "source": [
    "users_train, users_test = train_test_split(users)\n",
    "data_train = data[np.isin(data['user'], users_train)]\n",
    "data_test = data[np.isin(data['user'], users_test)]"
   ]
  },
  {
   "cell_type": "code",
   "execution_count": 16,
   "metadata": {},
   "outputs": [],
   "source": [
    "top10 = data_train.groupby('exemplar').apply(get_top_checkins)\n",
    "train_exemplars = data_train['exemplar'].unique()"
   ]
  },
  {
   "cell_type": "code",
   "execution_count": 17,
   "metadata": {},
   "outputs": [
    {
     "data": {
      "text/plain": [
       "exemplar   \n",
       "0         0    420315\n",
       "          1     42732\n",
       "          2     34055\n",
       "          3     33793\n",
       "          4     21714\n",
       "          5     19542\n",
       "          6      9191\n",
       "          7    164426\n",
       "          8      9410\n",
       "          9     24650\n",
       "1         0    298129\n",
       "          1     63805\n",
       "          2    689928\n",
       "          3    202016\n",
       "          4    763638\n",
       "          5     53626\n",
       "          6    412917\n",
       "          7    330817\n",
       "          8    393164\n",
       "          9     25678\n",
       "dtype: int64"
      ]
     },
     "execution_count": 17,
     "metadata": {},
     "output_type": "execute_result"
    }
   ],
   "source": [
    "top10[:20]"
   ]
  },
  {
   "cell_type": "code",
   "execution_count": 18,
   "metadata": {},
   "outputs": [
    {
     "name": "stdout",
     "output_type": "stream",
     "text": [
      "1.5511617605605443\n"
     ]
    }
   ],
   "source": [
    "# Рекомендуем топ 10 мест из его кластера\n",
    "\n",
    "countCorrect = 0\n",
    "total = 0\n",
    "\n",
    "for user in users_test:\n",
    "    exemplar = clusters.loc[user]['exemplar']\n",
    "    if exemplar in train_exemplars:\n",
    "        top_locations = top10.loc[exemplar].values\n",
    "        users_locations = data_test[data_test['user'] == user]['location']\n",
    "        correctAnswers = np.isin(top_locations, users_locations)\n",
    "        countCorrect += np.sum(correctAnswers)\n",
    "        total += min(10, users_locations.shape[0])\n",
    "    else:\n",
    "        total += 10\n",
    "print(countCorrect / total * 100)"
   ]
  },
  {
   "cell_type": "code",
   "execution_count": 19,
   "metadata": {},
   "outputs": [],
   "source": [
    "overall_top = data_train['location'].value_counts().iloc[:10].index.values"
   ]
  },
  {
   "cell_type": "code",
   "execution_count": 20,
   "metadata": {},
   "outputs": [
    {
     "name": "stdout",
     "output_type": "stream",
     "text": [
      "2.0806540510747746\n"
     ]
    }
   ],
   "source": [
    "# Всем рекомендуем общий топ 10 мест\n",
    "\n",
    "countCorrect = 0\n",
    "total = 0\n",
    "\n",
    "for user in users_test:\n",
    "    users_locations = data_test[data_test['user'] == user]['location']\n",
    "    correctAnswers = np.isin(overall_top, users_locations)\n",
    "    countCorrect += np.sum(correctAnswers)\n",
    "    total += min(10, users_locations.shape[0])\n",
    "print(countCorrect / total * 100)"
   ]
  },
  {
   "cell_type": "code",
   "execution_count": 21,
   "metadata": {},
   "outputs": [
    {
     "name": "stdout",
     "output_type": "stream",
     "text": [
      "2.988701083961051\n"
     ]
    }
   ],
   "source": [
    "# Если нет топа для кластера, рекомендуем общий топ\n",
    "\n",
    "countCorrect = 0\n",
    "total = 0\n",
    "\n",
    "for user in users_test:\n",
    "    exemplar = clusters.loc[user]['exemplar']\n",
    "    if exemplar in train_exemplars:\n",
    "        top_locations = top10.loc[exemplar].values\n",
    "    else:\n",
    "        top_locations = overall_top\n",
    "    users_locations = data_test[data_test['user'] == user]['location']\n",
    "    correctAnswers = np.isin(top_locations, users_locations)\n",
    "    countCorrect += np.sum(correctAnswers)\n",
    "    total += min(10, users_locations.shape[0])\n",
    "print(countCorrect / total * 100)"
   ]
  },
  {
   "cell_type": "code",
   "execution_count": null,
   "metadata": {},
   "outputs": [],
   "source": []
  }
 ],
 "metadata": {
  "kernelspec": {
   "display_name": "Python 3",
   "language": "python",
   "name": "python3"
  },
  "language_info": {
   "codemirror_mode": {
    "name": "ipython",
    "version": 3
   },
   "file_extension": ".py",
   "mimetype": "text/x-python",
   "name": "python",
   "nbconvert_exporter": "python",
   "pygments_lexer": "ipython3",
   "version": "3.6.5"
  }
 },
 "nbformat": 4,
 "nbformat_minor": 2
}
